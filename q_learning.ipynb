{
 "cells": [
  {
   "cell_type": "markdown",
   "metadata": {},
   "source": [
    "# Q Learning\n",
    "\n",
    "\n",
    "\n",
    "In Q Learning we try to learn the Expected Future Discounted Reward for each possible action.\n",
    "We then try to maximize our score function by taking the action with the best Q Value.\n",
    "\n",
    "The Q Function is given by:\n",
    "$\n",
    "\\begin{align}\n",
    "Q^{\\pi}(s_{t}, a_{t}) = E[R_{t+1} + R_{t+2} + R_{t+3} .... | s_{t}, a_{t}]\n",
    "\\end{align}\n",
    "$\n",
    "\n",
    "We optimize it using the following equation:\n",
    "\n",
    "$\n",
    "\\begin{align}\n",
    "Q(s, a) = Q(s, a) + \\alpha [r + \\gamma max_{a^{'}}Q(s^{'}, a^{'}) - Q(s, a)]\n",
    "\\end{align}\n",
    "$\n",
    "\n",
    "\n",
    "$\n",
    "\\begin{align}\n",
    "\\text{Where } \\gamma   \\text{: is the discount factor}\n",
    "\\end{align}\n",
    "$\n",
    "\n",
    "The intuition behind this is that if we are we move from a good state to a state with all bad future estimates, the current Q value would decrease and when we move to a state that has a better Q value then we would increase the current Q Value.\n",
    "\n",
    "We do not actually have to wait until the end of the episode to calculate the future discounted reward. Instead we use the estimated future discounted reward by looking up our Q Table and taking the maximum value over all posible actions.\n",
    "\n",
    "This approach is called a Temporal Difference Method.\n",
    "\n",
    "\n",
    "\n"
   ]
  },
  {
   "cell_type": "code",
   "execution_count": 2,
   "metadata": {},
   "outputs": [],
   "source": [
    "from IPython.display import clear_output\n",
    "import time\n",
    "import gym\n",
    "import numpy as np\n",
    "import random"
   ]
  },
  {
   "cell_type": "code",
   "execution_count": 3,
   "metadata": {},
   "outputs": [
    {
     "name": "stdout",
     "output_type": "stream",
     "text": [
      "+---------+\n",
      "|R: | : :\u001b[35m\u001b[43mG\u001b[0m\u001b[0m|\n",
      "| : : : : |\n",
      "| : : : : |\n",
      "| | : | : |\n",
      "|Y| : |\u001b[34;1mB\u001b[0m: |\n",
      "+---------+\n",
      "\n"
     ]
    }
   ],
   "source": [
    "# Create Environment and Render Sample\n",
    "env = gym.make(\"Taxi-v2\").env\n",
    "env.render()"
   ]
  },
  {
   "cell_type": "code",
   "execution_count": 5,
   "metadata": {},
   "outputs": [
    {
     "name": "stdout",
     "output_type": "stream",
     "text": [
      "+---------+\n",
      "|\u001b[34;1mR\u001b[0m: | : :\u001b[35mG\u001b[0m|\n",
      "| : : : : |\n",
      "| :\u001b[43m \u001b[0m: : : |\n",
      "| | : | : |\n",
      "|Y| : |B: |\n",
      "+---------+\n",
      "\n",
      "Action Space:  Discrete(6)\n",
      "State Space:  Discrete(500)\n"
     ]
    }
   ],
   "source": [
    "# View Action Space and Observation Space\n",
    "state = env.reset()\n",
    "env.render()\n",
    "\n",
    "print(f\"Action Space: {env.action_space}\")\n",
    "print(f\"State Space: {env.observation_space}\")"
   ]
  },
  {
   "cell_type": "markdown",
   "metadata": {},
   "source": [
    "### Visualize Random Agent"
   ]
  },
  {
   "cell_type": "code",
   "execution_count": 7,
   "metadata": {},
   "outputs": [
    {
     "name": "stdout",
     "output_type": "stream",
     "text": [
      "+---------+\n",
      "|R: | : :\u001b[35m\u001b[42mG\u001b[0m\u001b[0m|\n",
      "| : : : : |\n",
      "| : : : : |\n",
      "| | : | : |\n",
      "|Y| : |B: |\n",
      "+---------+\n",
      "  (East)\n",
      "Timesteps taken:  4271\n",
      "Penalties incurred:  1352\n"
     ]
    }
   ],
   "source": [
    "steps = 0\n",
    "penalties, reward = 0, 0\n",
    "\n",
    "frames = []\n",
    "\n",
    "done = False\n",
    "\n",
    "# Simple Loop with the agent taking random samples. \n",
    "# This will take some time as it takes alot of time steps to ramdomly drop the passenger to the destination.\n",
    "\n",
    "while not done:\n",
    "    clear_output(wait = True) # Used to clear the IPython display for the cell. \n",
    "    action = env.action_space.sample()\n",
    "    env.render()\n",
    "    state, reward, done, info = env.step(action)\n",
    "\n",
    "    if reward == -10:\n",
    "        penalties += 1\n",
    "    \n",
    "    steps += 1\n",
    "    time.sleep(.1) # Sleep so that we can visualize each state.\n",
    "    \n",
    "    \n",
    "print(f\"Timesteps taken: {steps}\")\n",
    "print(f\"Penalties incurred: {penalties}\")"
   ]
  },
  {
   "cell_type": "markdown",
   "metadata": {},
   "source": [
    "### Create Q Table to Store Q value for each State Action pair"
   ]
  },
  {
   "cell_type": "code",
   "execution_count": 9,
   "metadata": {},
   "outputs": [],
   "source": [
    "# The Q table contains the Q Value for each State-Action pair. So create a table with states x actions.\n",
    "q_table = np.zeros([env.observation_space.n, env.action_space.n])"
   ]
  },
  {
   "cell_type": "markdown",
   "metadata": {},
   "source": [
    "### Train Agent"
   ]
  },
  {
   "cell_type": "code",
   "execution_count": 10,
   "metadata": {},
   "outputs": [
    {
     "name": "stdout",
     "output_type": "stream",
     "text": [
      "Episode: 100000\n"
     ]
    }
   ],
   "source": [
    "alpha = 0.1\n",
    "gamma = 0.6\n",
    "epsilon = 0.1\n",
    "\n",
    "all_epochs = []\n",
    "all_penalties = []\n",
    "\n",
    "for i in range(1, 100001):\n",
    "    state = env.reset()\n",
    "\n",
    "    epochs, penalties, reward, = 0, 0, 0\n",
    "    done = False\n",
    "    \n",
    "    while not done:\n",
    "        # Take a random action if sampled random number < epsilon. This promotes exploring.\n",
    "        # Otherwise take best action from Q Table for that state.\n",
    "        if random.uniform(0, 1) < epsilon:\n",
    "            action = env.action_space.sample() \n",
    "        else:\n",
    "            action = np.argmax(q_table[state])\n",
    "\n",
    "        next_state, reward, done, info = env.step(action) \n",
    "        \n",
    "        old_value = q_table[state, action]\n",
    "        next_max = np.max(q_table[next_state])\n",
    "        \n",
    "        if reward == -10:\n",
    "            penalties += 1\n",
    "        \n",
    "        # Update the Q table using the equation above.\n",
    "        new_value = old_value + alpha * (reward + gamma * next_max - old_value)\n",
    "        q_table[state, action] = new_value\n",
    "\n",
    "        state = next_state\n",
    "        epochs += 1\n",
    "    \n",
    "    if i % 100 == 0:\n",
    "        clear_output(wait=True)\n",
    "        print(f\"Episode: {i}\")"
   ]
  },
  {
   "cell_type": "markdown",
   "metadata": {},
   "source": [
    "### Evaluate agents performance"
   ]
  },
  {
   "cell_type": "code",
   "execution_count": 11,
   "metadata": {},
   "outputs": [
    {
     "name": "stdout",
     "output_type": "stream",
     "text": [
      "Results after 100 episodes:\n",
      "Average timesteps per episode: 12.87\n",
      "Average penalties per episode: 0.0\n"
     ]
    }
   ],
   "source": [
    "# Evaluate the agent across 100 epochs by always taking the best action.\n",
    "total_steps, total_penalties = 0, 0\n",
    "episodes = 100\n",
    "\n",
    "for _ in range(episodes):\n",
    "    state = env.reset()\n",
    "    steps, penalties, reward = 0, 0, 0\n",
    "    \n",
    "    done = False\n",
    "    \n",
    "    while not done:\n",
    "        action = np.argmax(q_table[state])\n",
    "        state, reward, done, info = env.step(action)\n",
    "\n",
    "        if reward == -10:\n",
    "            penalties += 1\n",
    "\n",
    "        steps += 1\n",
    "    \n",
    "    total_penalties += penalties\n",
    "    total_steps += steps\n",
    "\n",
    "print(f\"Results after {episodes} episodes:\")\n",
    "print(f\"Average timesteps per episode: {total_steps / episodes}\")\n",
    "print(f\"Average penalties per episode: {total_penalties / episodes}\")"
   ]
  },
  {
   "cell_type": "code",
   "execution_count": null,
   "metadata": {},
   "outputs": [],
   "source": []
  }
 ],
 "metadata": {
  "kernelspec": {
   "display_name": "Python 3",
   "language": "python",
   "name": "python3"
  },
  "language_info": {
   "codemirror_mode": {
    "name": "ipython",
    "version": 3
   },
   "file_extension": ".py",
   "mimetype": "text/x-python",
   "name": "python",
   "nbconvert_exporter": "python",
   "pygments_lexer": "ipython3",
   "version": "3.6.8"
  }
 },
 "nbformat": 4,
 "nbformat_minor": 2
}
