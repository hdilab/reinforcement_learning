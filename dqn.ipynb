{
 "cells": [
  {
   "cell_type": "markdown",
   "metadata": {},
   "source": [
    "# DQN Agent\n",
    "\n",
    "In cases where the number of possible states becomes very large it becomes computationally inefficient to store the Q Values for each state in a table.\n",
    "\n",
    "To overcome this we use a Neural Network as a function approximator. We pass the input state and action to the network and retrieve the approximated Q Value.\n",
    "\n",
    "Since Q Learning is an Off policy algorithm it is able to learn from old experiences. We create a simple buffer using a deque that stores the last 200 frames. At each timestep we sample from the buffer for training.\n"
   ]
  },
  {
   "cell_type": "code",
   "execution_count": 1,
   "metadata": {},
   "outputs": [],
   "source": [
    "import gym\n",
    "import time\n",
    "from IPython.display import clear_output\n",
    "from matplotlib import pyplot as plt\n",
    "import random\n",
    "import gym\n",
    "import numpy as np\n",
    "import tensorflow as tf\n",
    "from collections import deque\n",
    "%matplotlib inline"
   ]
  },
  {
   "cell_type": "markdown",
   "metadata": {},
   "source": [
    "### Visualize random agent"
   ]
  },
  {
   "cell_type": "code",
   "execution_count": 2,
   "metadata": {},
   "outputs": [
    {
     "data": {
      "image/png": "[encoded data removed]",
      "text/plain": [
       "<Figure size 432x288 with 1 Axes>"
      ]
     },
     "metadata": {
      "needs_background": "light"
     },
     "output_type": "display_data"
    },
    {
     "name": "stdout",
     "output_type": "stream",
     "text": [
      "Times steps survivied when using a Random Agent:  16.0\n"
     ]
    }
   ],
   "source": [
    "# Please note to render the Cart Pole Environment on a remote server you need to run the jupyter notebook using a virtual display.\n",
    "# Use the following command\n",
    "# xvfb-run -a -s \"-screen 0 1400x900x24 +extension RANDR\" -- jupyter notebook --no-browser\n",
    "\n",
    "env = gym.make(\"CartPole-v1\")\n",
    "\n",
    "state = env.reset()\n",
    "done = False\n",
    "total_reward = 0\n",
    "while not done:\n",
    "    clear_output(wait = True)\n",
    "    plt.imshow(env.render(mode='rgb_array'))\n",
    "    plt.show()\n",
    "    action = env.action_space.sample()\n",
    "    state, reward, done, info = env.step(action)\n",
    "    time.sleep(.1)\n",
    "    total_reward += reward\n",
    "print(\"Times steps survivied when using a Random Agent: \", total_reward)"
   ]
  },
  {
   "cell_type": "markdown",
   "metadata": {},
   "source": [
    "### Building the Network"
   ]
  },
  {
   "cell_type": "code",
   "execution_count": 3,
   "metadata": {},
   "outputs": [],
   "source": [
    "\n",
    "EPISODES = 50\n",
    "\n",
    "class DQAgent:\n",
    "    def __init__(self, state_size, action_size):\n",
    "        self.state_size = state_size\n",
    "        self.action_size = action_size\n",
    "        self.memory = deque(maxlen=2000)\n",
    "        self.gamma = .95\n",
    "        self.epsilon = 1.0\n",
    "        self.epsilon_min = 0.01\n",
    "        self.epsilon_decay = 0.999\n",
    "        self.learning_rate = 0.001\n",
    "        \n",
    "        with tf.variable_scope(\"DQNetwork\"):\n",
    "            self.inputs_ = tf.placeholder(tf.float32, \n",
    "                                         [None, state_size], \n",
    "                                         name=\"inputs\")\n",
    "            self.actions_ = tf.placeholder(tf.float32,\n",
    "                                          action_size,\n",
    "                                          name=\"actions\")\n",
    "            self.target_Q = tf.placeholder(tf.float32,\n",
    "                                          (),\n",
    "                                          name=\"target_q\")\n",
    "            \n",
    "            self.fc1 = tf.layers.dense(inputs=self.inputs_,\n",
    "                                      units=24,\n",
    "                                      activation=tf.nn.elu,\n",
    "                                      kernel_initializer=tf.contrib.layers.xavier_initializer(),\n",
    "                                      name=\"fc1\"\n",
    "                                      )\n",
    "            \n",
    "            self.fc2 = tf.layers.dense(inputs=self.fc1,\n",
    "                                      units=24,\n",
    "                                      activation=tf.nn.elu,\n",
    "                                      kernel_initializer=tf.contrib.layers.xavier_initializer(),\n",
    "                                      name=\"fc2\")\n",
    "            \n",
    "            self.output = tf.layers.dense(inputs=self.fc2,\n",
    "                                         units = action_size,\n",
    "                                         activation=None,\n",
    "                                         kernel_initializer=tf.contrib.layers.xavier_initializer(),\n",
    "                                         name=\"output\")\n",
    "            self.Q = tf.reduce_sum(tf.multiply(self.output, self.actions_))\n",
    "            self.loss = tf.reduce_mean(tf.square(self.target_Q - self.Q))\n",
    "            \n",
    "            self.optimizer = tf.train.AdamOptimizer(self.learning_rate).minimize(self.loss)\n",
    "            \n",
    "    def remember(self, state, action, reward, next_state, done):\n",
    "        self.memory.append((state, action, reward, next_state, done))\n",
    "\n",
    "    def act(self, state, sess):\n",
    "        if np.random.rand() <= self.epsilon:\n",
    "            return random.randrange(self.action_size)\n",
    "        else:\n",
    "            act_values = sess.run(self.output, feed_dict={\n",
    "                self.inputs_ : state\n",
    "            })\n",
    "            return np.argmax(act_values)\n",
    "\n",
    "    def replay(self, batch_size, sess):\n",
    "        minibatch = random.sample(self.memory, batch_size)\n",
    "        for state, action, reward, next_state, done in minibatch:\n",
    "            target = reward\n",
    "            if not done:\n",
    "                target_q = sess.run(self.output, feed_dict={\n",
    "                    self.inputs_ : next_state\n",
    "                })\n",
    "                target = (reward + self.gamma * np.amax(target_q[0]))\n",
    "            #Remove incorrect indent, we want to train at each timestep not just when it is done\n",
    "            action = np.eye(self.action_size)[action]\n",
    "\n",
    "            loss, _ = sess.run([self.loss, self.optimizer], feed_dict={\n",
    "                self.inputs_ : state,\n",
    "                self.target_Q : target,\n",
    "                self.actions_ : action\n",
    "            })\n",
    "\n",
    "\n",
    "            "
   ]
  },
  {
   "cell_type": "markdown",
   "metadata": {},
   "source": [
    "### Train Agent"
   ]
  },
  {
   "cell_type": "code",
   "execution_count": 4,
   "metadata": {},
   "outputs": [
    {
     "name": "stdout",
     "output_type": "stream",
     "text": [
      "episode 0, score: 12, e: 1.0\n",
      "episode 1, score: 16, e: 1.0\n",
      "episode 2, score: 14, e: 0.9870777147137147\n",
      "episode 3, score: 16, e: 0.9704309672630859\n",
      "episode 4, score: 10, e: 0.959809440525076\n",
      "episode 5, score: 11, e: 0.9483548639781193\n",
      "episode 6, score: 26, e: 0.9230793978373364\n",
      "episode 7, score: 11, e: 0.9120631656822724\n",
      "episode 8, score: 19, e: 0.8939941590229386\n",
      "episode 9, score: 20, e: 0.8754068367770318\n",
      "episode 10, score: 62, e: 0.8219316276865206\n",
      "episode 11, score: 25, e: 0.8008264083574369\n",
      "episode 12, score: 13, e: 0.7896874231428072\n",
      "episode 13, score: 21, e: 0.7724955072656065\n",
      "episode 14, score: 14, e: 0.7609888362515699\n",
      "episode 15, score: 13, e: 0.750403966288439\n",
      "episode 16, score: 59, e: 0.7066826263699144\n",
      "episode 17, score: 30, e: 0.6851009179515178\n",
      "episode 18, score: 51, e: 0.6503691570122084\n",
      "episode 19, score: 27, e: 0.632402542800493\n",
      "episode 20, score: 76, e: 0.5855125400671733\n",
      "episode 21, score: 95, e: 0.531891525167934\n",
      "episode 22, score: 109, e: 0.47646036099556505\n",
      "episode 23, score: 36, e: 0.45914497940338683\n",
      "episode 24, score: 54, e: 0.4345619451717332\n",
      "episode 25, score: 108, e: 0.3896636631051653\n",
      "episode 26, score: 153, e: 0.3340220181386073\n",
      "episode 27, score: 175, e: 0.2800922055970794\n",
      "episode 28, score: 199, e: 0.22929715625813843\n",
      "episode 29, score: 197, e: 0.18808984016399252\n",
      "episode 30, score: 199, e: 0.15397952748707622\n",
      "episode 31, score: 199, e: 0.12605515994096825\n",
      "episode 32, score: 199, e: 0.10319490913541582\n",
      "episode 33, score: 199, e: 0.08448039157186232\n",
      "episode 34, score: 199, e: 0.06915977367420187\n",
      "episode 35, score: 199, e: 0.05661756776539281\n",
      "episode 36, score: 199, e: 0.046349905579066174\n",
      "episode 37, score: 199, e: 0.037944295948747826\n",
      "episode 38, score: 199, e: 0.03106305346383333\n",
      "episode 39, score: 199, e: 0.02542973235819944\n",
      "episode 40, score: 199, e: 0.020818020628994943\n",
      "episode 41, score: 199, e: 0.017042648219988785\n",
      "episode 42, score: 199, e: 0.013951944016509982\n",
      "episode 43, score: 199, e: 0.011421742638067355\n",
      "episode 44, score: 199, e: 0.009998671593271896\n",
      "episode 45, score: 199, e: 0.009998671593271896\n",
      "episode 46, score: 199, e: 0.009998671593271896\n",
      "episode 47, score: 199, e: 0.009998671593271896\n",
      "episode 48, score: 199, e: 0.009998671593271896\n",
      "episode 49, score: 199, e: 0.009998671593271896\n"
     ]
    }
   ],
   "source": [
    "env = gym.make(\"CartPole-v1\")\n",
    "state_size = env.observation_space.shape[0]\n",
    "action_size = env.action_space.n\n",
    "\n",
    "tf.reset_default_graph()\n",
    "agent = DQAgent(state_size, action_size)\n",
    "\n",
    "sess = tf.Session()\n",
    "sess.run(tf.global_variables_initializer())\n",
    "done = False\n",
    "batch_size = 32\n",
    "\n",
    "for e in range(EPISODES):\n",
    "    state = env.reset()\n",
    "    state = np.reshape(state, (1, state_size))\n",
    "    for time in range(200):\n",
    "        action = agent.act(state, sess)\n",
    "        next_state, reward, done, _ = env.step(action)\n",
    "        next_state = np.reshape(next_state, (1, state_size))\n",
    "        reward = reward if not done else -10.0\n",
    "        agent.remember(state, action, reward, next_state, done)\n",
    "        state = next_state\n",
    "\n",
    "        if len(agent.memory)> batch_size:\n",
    "            agent.replay(batch_size, sess)\n",
    "            if agent.epsilon > agent.epsilon_min:\n",
    "                agent.epsilon *= agent.epsilon_decay\n",
    "        if done:\n",
    "            break\n",
    "    print(f\"episode {e}, score: {time}, e: {agent.epsilon}\")\n",
    "\n",
    "    "
   ]
  },
  {
   "cell_type": "markdown",
   "metadata": {},
   "source": [
    "### Evaluating Agent"
   ]
  },
  {
   "cell_type": "code",
   "execution_count": 5,
   "metadata": {},
   "outputs": [
    {
     "name": "stdout",
     "output_type": "stream",
     "text": [
      "Results after 100 episodes:\n",
      "Average Reward per episode: 290.11\n"
     ]
    }
   ],
   "source": [
    "agent.epsilon = 0.0\n",
    "episodes = 100\n",
    "\n",
    "total_reward = 0\n",
    "for _ in range(episodes):\n",
    "    state = env.reset()\n",
    "    done = False\n",
    "    while not done:\n",
    "        state = np.reshape(state, (1, state_size))\n",
    "        action = agent.act(state, sess)\n",
    "        state, reward, done, _ = env.step(action)\n",
    "        total_reward += reward\n",
    "\n",
    "print(f\"Results after {episodes} episodes:\")\n",
    "print(f\"Average Reward per episode: {total_reward / episodes}\")"
   ]
  },
  {
   "cell_type": "code",
   "execution_count": 6,
   "metadata": {},
   "outputs": [],
   "source": [
    "sess.close()"
   ]
  }
 ],
 "metadata": {
  "kernelspec": {
   "display_name": "Python 3",
   "language": "python",
   "name": "python3"
  },
  "language_info": {
   "codemirror_mode": {
    "name": "ipython",
    "version": 3
   },
   "file_extension": ".py",
   "mimetype": "text/x-python",
   "name": "python",
   "nbconvert_exporter": "python",
   "pygments_lexer": "ipython3",
   "version": "3.6.8"
  }
 },
 "nbformat": 4,
 "nbformat_minor": 2
}
